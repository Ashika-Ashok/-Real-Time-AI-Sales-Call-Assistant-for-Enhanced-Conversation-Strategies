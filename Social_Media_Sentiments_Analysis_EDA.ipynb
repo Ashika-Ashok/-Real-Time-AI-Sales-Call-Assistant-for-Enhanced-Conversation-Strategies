{
  "metadata": {
    "kernelspec": {
      "language": "python",
      "display_name": "Python 3",
      "name": "python3"
    },
    "language_info": {
      "name": "python",
      "version": "3.10.13",
      "mimetype": "text/x-python",
      "codemirror_mode": {
        "name": "ipython",
        "version": 3
      },
      "pygments_lexer": "ipython3",
      "nbconvert_exporter": "python",
      "file_extension": ".py"
    },
    "kaggle": {
      "accelerator": "none",
      "dataSources": [
        {
          "sourceId": 7316566,
          "sourceType": "datasetVersion",
          "datasetId": 4245661
        }
      ],
      "dockerImageVersionId": 30746,
      "isInternetEnabled": true,
      "language": "python",
      "sourceType": "notebook",
      "isGpuEnabled": false
    },
    "colab": {
      "name": "Social Media Sentiments Analysis-EDA",
      "provenance": [],
      "include_colab_link": true
    }
  },
  "nbformat_minor": 0,
  "nbformat": 4,
  "cells": [
    {
      "cell_type": "markdown",
      "metadata": {
        "id": "view-in-github",
        "colab_type": "text"
      },
      "source": [
        "<a href=\"https://colab.research.google.com/github/Ashika-Ashok/-Real-Time-AI-Sales-Call-Assistant-for-Enhanced-Conversation-Strategies/blob/main/Social_Media_Sentiments_Analysis_EDA.ipynb\" target=\"_parent\"><img src=\"https://colab.research.google.com/assets/colab-badge.svg\" alt=\"Open In Colab\"/></a>"
      ]
    },
    {
      "source": [
        "# IMPORTANT: RUN THIS CELL IN ORDER TO IMPORT YOUR KAGGLE DATA SOURCES,\n",
        "# THEN FEEL FREE TO DELETE THIS CELL.\n",
        "# NOTE: THIS NOTEBOOK ENVIRONMENT DIFFERS FROM KAGGLE'S PYTHON\n",
        "# ENVIRONMENT SO THERE MAY BE MISSING LIBRARIES USED BY YOUR\n",
        "# NOTEBOOK.\n",
        "import kagglehub\n",
        "kashishparmar02_social_media_sentiments_analysis_dataset_path = kagglehub.dataset_download('kashishparmar02/social-media-sentiments-analysis-dataset')\n",
        "\n",
        "print('Data source import complete.')\n"
      ],
      "metadata": {
        "id": "ORjjHRtX2ctZ"
      },
      "cell_type": "code",
      "outputs": [],
      "execution_count": null
    },
    {
      "cell_type": "markdown",
      "source": [
        "# Social Media Sentiments Analysis\n",
        "\n",
        "Social media analysis is to understand audience, develop creative contents, increase traffic and sales, boost ROI, and improve strategic decision-making to achieve social media goals. Audience analysis helps improving customer experience, brand perception, and marketing strategy. Meanwhile, sentiment analysis is to find out how audience feel about your brand on social media via engagement activities such as likes, follows, clicks, retweets, comments, impressions, interests, and behaviours, etc. These metrics help marketing campains and measuring key performance indicators(KPIs)."
      ],
      "metadata": {
        "id": "21RI_ca82ctg"
      }
    },
    {
      "cell_type": "markdown",
      "source": [
        "# About the dataset\n",
        "\n",
        "The dataset captures audience emotions, trends, and interactions across different social media platform; Instagram, Facebook, Tweeter. It provides a snapshot of user generated content, encompassing text, timestamps, hashtags, countries, likes and retweets. It can be leveraged for diverse analytical purposes such as sentiment analysis, temporal analysis, user behaviour insights, platform specific analysis, hashtag trends, geographical analysis, user identification, and cross-analysis.\n",
        "\n",
        "[Data Source](https://www.kaggle.com/datasets/kashishparmar02/social-media-sentiments-analysis-dataset)\n",
        "\n",
        "* Text: User-generated content showcasing sentiments\n",
        "* Sentiment: Categorized emotions\n",
        "* Timestamp: Date and time information\n",
        "* User: Unique identifiers of users contributing\n",
        "* Platform: Social media platform where the content originated\n",
        "* Hashtags: Identifies trending topics and themes\n",
        "* Likes: Quantities user engagement\n",
        "* Retweets: Reflects content popularity\n",
        "* Country: Geographical origin of each post"
      ],
      "metadata": {
        "id": "e-zOwjxt2ctj"
      }
    },
    {
      "cell_type": "markdown",
      "source": [
        "# Identify objective\n",
        "\n",
        "* Understand data to interpret insights about how customer feel on social media\n",
        "* Analyze and visualize audience sentiments to improve audience experience\n",
        "* Deliver strategic marketing metrics to achieve socal media goals"
      ],
      "metadata": {
        "id": "DL4KfFTA2ctl"
      }
    },
    {
      "cell_type": "markdown",
      "source": [
        "# 1. Import libaries and Load data"
      ],
      "metadata": {
        "id": "ePQSsAs82ctm"
      }
    },
    {
      "cell_type": "code",
      "source": [
        "\n",
        "import numpy as np # linear algebra\n",
        "import pandas as pd # data processing, CSV file I/O (e.g. pd.read_csv)\n",
        "\n",
        "import os\n",
        "for dirname, _, filenames in os.walk('/kaggle/input'):\n",
        "    for filename in filenames:\n",
        "        print(os.path.join(dirname, filename))"
      ],
      "metadata": {
        "_uuid": "8f2839f25d086af736a60e9eeb907d3b93b6e0e5",
        "_cell_guid": "b1076dfc-b9ad-4769-8c92-a6c4dae69d19",
        "trusted": true,
        "id": "h2K5YYD42ctn"
      },
      "execution_count": null,
      "outputs": []
    },
    {
      "cell_type": "code",
      "source": [
        "df = pd.read_csv(\"/kaggle/input/social-media-sentiments-analysis-dataset/sentimentdataset.csv\")\n",
        "df.head(5)"
      ],
      "metadata": {
        "trusted": true,
        "id": "0Sz8tKp_2ctp"
      },
      "execution_count": null,
      "outputs": []
    },
    {
      "cell_type": "markdown",
      "source": [
        "# 2. Preprocessing: Inspect and Clean Data"
      ],
      "metadata": {
        "id": "kE1dVPYy2ctq"
      }
    },
    {
      "cell_type": "code",
      "source": [
        "print('Columns of dataset: ', df.columns, '\\n')\n",
        "print('Dimension of dataset: ', df.shape, '\\n')\n",
        "print('Infomation of dataset: ', df.info())"
      ],
      "metadata": {
        "trusted": true,
        "id": "3E4_L3Jt2ctr"
      },
      "execution_count": null,
      "outputs": []
    },
    {
      "cell_type": "code",
      "source": [
        "df.isnull().sum() #<--- null value: none"
      ],
      "metadata": {
        "trusted": true,
        "id": "0gl-iF_u2cts"
      },
      "execution_count": null,
      "outputs": []
    },
    {
      "cell_type": "code",
      "source": [
        "df.duplicated().sum() #<---duplicates: none"
      ],
      "metadata": {
        "trusted": true,
        "id": "SgiQN-qN2ctt"
      },
      "execution_count": null,
      "outputs": []
    },
    {
      "cell_type": "markdown",
      "source": [
        "# 3. Preprocessing: Wrangle and Transform data"
      ],
      "metadata": {
        "id": "fRTDshdr2ctu"
      }
    },
    {
      "cell_type": "code",
      "source": [
        "# Drop unrelevant and unclear no-name columns from the dataset\n",
        "df1=df.drop(['Unnamed: 0.1', 'Unnamed: 0'], axis=1)"
      ],
      "metadata": {
        "trusted": true,
        "id": "CV-83PDG2ctu"
      },
      "execution_count": null,
      "outputs": []
    },
    {
      "cell_type": "code",
      "source": [
        "# check statistical distribution of numerical variables\n",
        "df1.describe()"
      ],
      "metadata": {
        "trusted": true,
        "id": "0O_401OY2ctv"
      },
      "execution_count": null,
      "outputs": []
    },
    {
      "cell_type": "code",
      "source": [
        "# Check object columns: count of all values in the column, unique value, top value, frequency of value\n",
        "df1.describe(include=['object'])"
      ],
      "metadata": {
        "trusted": true,
        "id": "Jjuw9A2D2ctw"
      },
      "execution_count": null,
      "outputs": []
    },
    {
      "cell_type": "markdown",
      "source": [
        "**pandas.Series.str.strip()**\n",
        "\n",
        "Strip whitespaces (including newlines) or a set of specified characters from each string in the Series/Index from left and right sides. Replaces any non-strings in Series with NaNs.\n",
        "\n",
        "Example:\n",
        "- Before using str.strip(): ' Twitter  ', ' Twitter ', ' Instagram ', ' Facebook '\n",
        "- After using str.strip(): 'Twitter', 'Instagram', 'Facebook'\n"
      ],
      "metadata": {
        "id": "4FU7sgQZ2ctw"
      }
    },
    {
      "cell_type": "code",
      "source": [
        "# Series.str.strip() in pandas: Remove leading and trailing characters in Series/Index.\n",
        "df1['Text']= df1['Text'].str.strip()\n",
        "df1['Sentiment']= df1['Sentiment'].str.strip()\n",
        "df1['User']= df1['User'].str.strip()\n",
        "df1['Platform']= df1['Platform'].str.strip()\n",
        "df1['Hashtags']= df1['Hashtags'].str.strip()\n",
        "df1['Country']= df1['Country'].str.strip()"
      ],
      "metadata": {
        "trusted": true,
        "id": "KZBbgu292ctx"
      },
      "execution_count": null,
      "outputs": []
    },
    {
      "cell_type": "code",
      "source": [
        "# to see unique values in 'Platform' column\n",
        "print(\"Print unique values in 'Platform'column: \", df1['Platform'].unique(), '\\n')\n",
        "print(\"Value counts in 'Platform' column: \", '\\n', df1['Platform'].value_counts())"
      ],
      "metadata": {
        "trusted": true,
        "id": "VdYW9x_a2ctx"
      },
      "execution_count": null,
      "outputs": []
    },
    {
      "cell_type": "code",
      "source": [
        "df1.sample(3)"
      ],
      "metadata": {
        "trusted": true,
        "id": "tfFt-MoF2cty"
      },
      "execution_count": null,
      "outputs": []
    },
    {
      "cell_type": "code",
      "source": [
        "# Transform the 'Timestamp' column to two columns, 'Date', 'Time'\n",
        "import datetime as dt\n",
        "df1['time'] = pd.to_datetime(df1.Timestamp)\n",
        "df1['Date'] = df1['time'].dt.date\n",
        "df1['Time'] = df1['time'].dt.time\n",
        "#df1['new_Day']=df1['time'].dt.day\n",
        "df1['Weekday']=df1['time'].dt.weekday  #<--- weekday value: 0 ~ 6\n",
        "#df1.drop(['Timestamp', 'time'], axis=1) #<--- not working in here\n",
        "df1.head(2)"
      ],
      "metadata": {
        "trusted": true,
        "id": "v4EtdFi22cty"
      },
      "execution_count": null,
      "outputs": []
    },
    {
      "cell_type": "code",
      "source": [
        "# drop two columns: 'timestamp', 'time'\n",
        "df2=df1.drop(['Timestamp', 'time'], axis=1)\n",
        "df2.head(2)"
      ],
      "metadata": {
        "trusted": true,
        "id": "gu4DV-Kh2ctz"
      },
      "execution_count": null,
      "outputs": []
    },
    {
      "cell_type": "code",
      "source": [
        "# Transform name of the column and create new column 'Month_name' using replace() function\n",
        "df2['Monthname']=df2['Month'].replace([1,2,3,4,5,6,7,8,9,10,11,12], ['Jan','Feb','Mar','Apr','May','Jun','Jul','Aug','Sep','Oct','Nov','Dec'])\n",
        "df2['Weekdayname']=df2['Weekday'].replace([0,1,2,3,4,5,6], ['Mon','Tue','Wed','Thur','Fri','Sat','Sun'])\n",
        "df2.head(2)"
      ],
      "metadata": {
        "trusted": true,
        "id": "iLfs6O5x2ctz"
      },
      "execution_count": null,
      "outputs": []
    },
    {
      "cell_type": "code",
      "source": [
        "df2.drop('Weekday', axis=1).sample(2)"
      ],
      "metadata": {
        "trusted": true,
        "id": "uSL2UOAn2ct0"
      },
      "execution_count": null,
      "outputs": []
    },
    {
      "cell_type": "code",
      "source": [
        "# Check the value of columns: 'Monthname', 'Weekdayname'using np.unique()\n",
        "print('Name of value in the Monthname column:', df2.Monthname.unique())\n",
        "print('Name of value in the Weekdayname column: ', df2.Weekdayname.unique())"
      ],
      "metadata": {
        "trusted": true,
        "id": "Pkfo6Uc52ct0"
      },
      "execution_count": null,
      "outputs": []
    },
    {
      "cell_type": "markdown",
      "source": [
        "# 4. Analyze and visualize data"
      ],
      "metadata": {
        "id": "aJDy0tv22ct0"
      }
    },
    {
      "cell_type": "code",
      "source": [
        "import matplotlib.pyplot as plt\n",
        "import seaborn as sns\n",
        "\n",
        "plt.figure(figsize=(10, 5))\n",
        "df2['Sentiment'].value_counts().nlargest(20).plot(kind='bar')\n",
        "plt.title(\"Kinds of Sentiment in descending order\")"
      ],
      "metadata": {
        "trusted": true,
        "id": "FY6QECQa2ct1"
      },
      "execution_count": null,
      "outputs": []
    },
    {
      "cell_type": "code",
      "source": [
        "#\n",
        "plt.figure(figsize=(10, 5))\n",
        "df2['Platform'].value_counts().plot(kind='pie', autopct='%1.1f%%')\n",
        "plt.title(\"Proportion of Platform\")\n",
        "#plt.legend()"
      ],
      "metadata": {
        "trusted": true,
        "id": "AmeaVJMO2ct1"
      },
      "execution_count": null,
      "outputs": []
    },
    {
      "cell_type": "code",
      "source": [
        "#\n",
        "plt.figure(figsize=(10, 5))\n",
        "df2['Country'].value_counts().nlargest(15).plot(kind='bar')"
      ],
      "metadata": {
        "trusted": true,
        "id": "OYBUIVAp2ct1"
      },
      "execution_count": null,
      "outputs": []
    },
    {
      "cell_type": "code",
      "source": [
        "for column in df2[['Year', 'Likes', 'Retweets']]:\n",
        "    print(f\"Maxiumn value: {column}:{df2[column].max()} | Minimum value: {column}:{df2[column].min()}\")"
      ],
      "metadata": {
        "trusted": true,
        "id": "UbiajQmM2ct2"
      },
      "execution_count": null,
      "outputs": []
    },
    {
      "cell_type": "code",
      "source": [
        "#\n",
        "plt.figure(figsize=(10, 5))\n",
        "df2.groupby('Country')['Likes'].sum().nlargest(15).plot(kind='bar')"
      ],
      "metadata": {
        "trusted": true,
        "id": "nZpY7Mku2ct2"
      },
      "execution_count": null,
      "outputs": []
    },
    {
      "cell_type": "code",
      "source": [
        "#\n",
        "plt.figure(figsize=(10, 5))\n",
        "df3=df2.groupby('Hashtags')['Retweets'].sum().nlargest(10).sort_values(ascending=False)\n",
        "df3.plot(kind='bar')\n",
        "plt.xticks(rotation=80)\n",
        "#control test angle"
      ],
      "metadata": {
        "trusted": true,
        "id": "Hb_EHpYo2ct3"
      },
      "execution_count": null,
      "outputs": []
    },
    {
      "cell_type": "code",
      "source": [
        "# Create variable 'Twitter'\n",
        "Twitter=df2[df2['Platform']=='Twitter']\n",
        "df5=Twitter.groupby('Year')['Likes'].sum().reset_index()\n",
        "plt.figure(figsize=(10, 5))\n",
        "sns.lineplot(data=df5, x='Year', y='Likes', marker='o')\n",
        "plt.title(\"Accumulative 'Likes' over years on Twitter\")"
      ],
      "metadata": {
        "trusted": true,
        "id": "h_KOg5Tc2ct3"
      },
      "execution_count": null,
      "outputs": []
    },
    {
      "cell_type": "code",
      "source": [
        "# iterrows(): iterate over DataFrame rows as (index, Series) pairs.\n",
        "Instagram=df2[df2['Platform']=='Instagram']\n",
        "df_ins=Instagram.groupby('Year')['Retweets'].sum().reset_index()\n",
        "\n",
        "plt.figure(figsize=(12, 5))\n",
        "sns.lineplot(data=df_ins, x='Year', y='Retweets', marker='o')\n",
        "for index, value in df_ins.iterrows():\n",
        "    plt.text(value['Year'], value['Retweets'], str(value['Retweets']), ha='left', va='bottom')\n",
        "plt.title(\"Accumulative 'Retweets' over time on Instagram\")"
      ],
      "metadata": {
        "trusted": true,
        "id": "6LTU8ix62ct3"
      },
      "execution_count": null,
      "outputs": []
    },
    {
      "cell_type": "code",
      "source": [],
      "metadata": {
        "id": "O2cOAYgD2ct4"
      },
      "execution_count": null,
      "outputs": []
    }
  ]
}