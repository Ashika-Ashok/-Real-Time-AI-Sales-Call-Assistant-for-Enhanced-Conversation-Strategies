{
  "cells": [
    {
      "cell_type": "markdown",
      "metadata": {
        "id": "view-in-github",
        "colab_type": "text"
      },
      "source": [
        "<a href=\"https://colab.research.google.com/github/Ashika-Ashok/-Real-Time-AI-Sales-Call-Assistant-for-Enhanced-Conversation-Strategies/blob/main/Lead_Scoring.ipynb\" target=\"_parent\"><img src=\"https://colab.research.google.com/assets/colab-badge.svg\" alt=\"Open In Colab\"/></a>"
      ]
    },
    {
      "metadata": {
        "_uuid": "54b367ab02722a753a90d826434423057bc48478",
        "id": "oqIBrUNh3G-6"
      },
      "cell_type": "markdown",
      "source": [
        "# Lead Scoring"
      ]
    },
    {
      "metadata": {
        "_uuid": "a867372ff699a758e435965cdbbf437ada0bd503",
        "id": "innsE88B3G-8"
      },
      "cell_type": "markdown",
      "source": [
        "## Logistic Regression"
      ]
    },
    {
      "metadata": {
        "_uuid": "3ddbc14f43e9f22a6f989ed30a7d75dcccda3420",
        "id": "gJEzKfjF3G--"
      },
      "cell_type": "markdown",
      "source": [
        "## Problem Statement\n",
        "An education company named __X Education__ sells online courses to industry professionals. On any given day, many professionals who are interested in the courses land on their website and browse for courses.\n",
        "\n",
        "\n",
        "\n",
        "The company markets its courses on several websites and search engines like Google. Once these people land on the website, they might browse the courses or fill up a form for the course or watch some videos. <br>\n",
        "\n",
        "__When these people fill up a form providing their email address or phone number, they are classified to be a lead. Moreover, the company also gets leads through past referrals.__<br>\n",
        "\n",
        "Once these leads are acquired, employees from the sales team start making calls, writing emails, etc. Through this process, some of the leads get converted while most do not. __The typical lead conversion rate at X education is around 30%.__\n",
        "\n",
        "\n",
        "Now, although X Education gets a lot of leads, its lead conversion rate is very poor. For example, if, say, they acquire 100 leads in a day, only about 30 of them are converted. To make this process more efficient, the company wishes to identify the most potential leads, also known as __‘Hot Leads’__. <br>\n",
        "\n",
        "If they successfully identify this set of leads, the lead conversion rate should go up as the sales team will now be focusing more on communicating with the potential leads rather than making calls to everyone. A typical lead conversion process can be represented using the following funnel:\n",
        "![image.jpg](attachment:image.jpg)\n",
        "\n",
        "\n",
        "\n",
        "__Lead Conversion Process__ - Demonstrated as a funnel\n",
        "As you can see, there are a lot of leads generated in the initial stage (top) but only a few of them come out as paying customers from the bottom.<br>\n",
        "\n",
        "In the middle stage, you need to nurture the potential leads well (i.e. educating the leads about the product, constantly communicating etc. ) in order to get a higher lead conversion.\n",
        "\n",
        "X Education has appointed you to help them select the most promising leads, i.e. the leads that are most likely to convert into paying customers. <br>\n",
        "The company requires you to build a model wherein you need to assign a lead score to each of the leads such that the customers with higher lead score have a higher conversion chance and the customers with lower lead score have a lower conversion chance.\n",
        "\n",
        "__The CEO, in particular, has given a ballpark of the target lead conversion rate to be around 80%.__\n",
        "\n",
        "\n",
        "\n",
        "\n",
        "### Data\n",
        "\n",
        "You have been provided with a leads dataset from the past with around 9000 data points. This dataset consists of various attributes such as Lead Source, Total Time Spent on Website, Total Visits, Last Activity, etc. which may or may not be useful in ultimately deciding whether a lead will be converted or not. The target variable, in this case, is the column ‘Converted’ which tells whether a past lead was converted or not wherein 1 means it was converted and 0 means it wasn’t converted.\n",
        "\n",
        "Another thing that you also need to check out for are the levels present in the categorical variables.<br>\n",
        "\n",
        "__Many of the categorical variables have a level called 'Select' which needs to be handled because it is as good as a null value.__\n",
        "\n",
        "\n",
        "\n",
        "### Goal\n",
        "\n",
        "\n",
        "1. Build a logistic regression model to assign a lead score between 0 and 100 to each of the leads which can be used by the company to target potential leads. A higher score would mean that the lead is hot, i.e. is most likely to convert whereas a lower score would mean that the lead is cold and will mostly not get converted."
      ]
    },
    {
      "metadata": {
        "trusted": true,
        "_uuid": "00b20f649f5135a0737ed7b4e520a61cbe7653fc",
        "id": "rmiW4BpD3G_B"
      },
      "cell_type": "code",
      "source": [
        "# Supress Warnings\n",
        "import warnings\n",
        "warnings.filterwarnings('ignore')\n",
        "\n",
        "# Importing libraries\n",
        "import numpy as np\n",
        "import pandas as pd\n",
        "import matplotlib.pyplot as plt\n",
        "import seaborn as sns\n",
        "\n",
        "# visulaisation\n",
        "from matplotlib.pyplot import xticks\n",
        "%matplotlib inline\n",
        "\n",
        "# Data display coustomization\n",
        "pd.set_option('display.max_rows', 100)\n",
        "pd.set_option('display.max_columns', 100)"
      ],
      "execution_count": null,
      "outputs": []
    },
    {
      "metadata": {
        "_uuid": "548b6b986ea9cf809e9927b7e197fbc7717cb37f",
        "id": "3Dg1SFEU3G_D"
      },
      "cell_type": "markdown",
      "source": [
        "## Data Preparation"
      ]
    },
    {
      "metadata": {
        "_uuid": "8578217952d315461cc05790bc56bf485450ecd2",
        "id": "gvrH1Ybu3G_E"
      },
      "cell_type": "markdown",
      "source": [
        "### Data Loading"
      ]
    },
    {
      "metadata": {
        "trusted": true,
        "_uuid": "306c236d431a4480dafa973fbb0ae52e19f10156",
        "id": "2dFkBrFN3G_F"
      },
      "cell_type": "code",
      "source": [
        "data = pd.DataFrame(pd.read_csv('../input/Leads.csv'))\n",
        "data.head(5)"
      ],
      "execution_count": null,
      "outputs": []
    },
    {
      "metadata": {
        "trusted": true,
        "_uuid": "ed97eed714c6de38c050ebff32d8effa1956cbdf",
        "id": "1JR6IMF93G_G"
      },
      "cell_type": "code",
      "source": [
        "#checking duplicates\n",
        "sum(data.duplicated(subset = 'Prospect ID')) == 0\n",
        "# No duplicate values"
      ],
      "execution_count": null,
      "outputs": []
    },
    {
      "metadata": {
        "_uuid": "dcce1b6e64be83900bb63ecd4d81fe603d8d4b5b",
        "id": "PtHRJflz3G_H"
      },
      "cell_type": "markdown",
      "source": [
        "### Data Inspection"
      ]
    },
    {
      "metadata": {
        "trusted": true,
        "_uuid": "f766c7615e5d4b366931a52f11519c26d61b3fad",
        "id": "cPvYGd5G3G_I"
      },
      "cell_type": "code",
      "source": [
        "data.shape"
      ],
      "execution_count": null,
      "outputs": []
    },
    {
      "metadata": {
        "trusted": true,
        "_uuid": "3c130f04dbe483a39753a390277126f878e244c8",
        "id": "zRf0izal3G_I"
      },
      "cell_type": "code",
      "source": [
        "data.info()"
      ],
      "execution_count": null,
      "outputs": []
    },
    {
      "metadata": {
        "trusted": true,
        "_uuid": "6e46a1eb6cd8ccfeba1a64175a510565d12fd881",
        "id": "i2TOby1d3G_J"
      },
      "cell_type": "code",
      "source": [
        "data.describe()"
      ],
      "execution_count": null,
      "outputs": []
    },
    {
      "metadata": {
        "_uuid": "4227fdcb97775a2e9bf835de7865d54517b427e2",
        "id": "7egbyDRG3G_K"
      },
      "cell_type": "markdown",
      "source": [
        "### Data Cleaning"
      ]
    },
    {
      "metadata": {
        "trusted": true,
        "_uuid": "2868173cce87fa7923853219adb1575514fbe800",
        "id": "owAP6ARN3G_K"
      },
      "cell_type": "code",
      "source": [
        "# As we can observe that there are select values for many column.\n",
        "#This is because customer did not select any option from the list, hence it shows select.\n",
        "# Select values are as good as NULL.\n",
        "\n",
        "# Converting 'Select' values to NaN.\n",
        "data = data.replace('Select', np.nan)"
      ],
      "execution_count": null,
      "outputs": []
    },
    {
      "metadata": {
        "trusted": true,
        "_uuid": "c6af9a270804eaa3f96f1244e71504a07fab1f69",
        "id": "N6IgOZyX3G_L"
      },
      "cell_type": "code",
      "source": [
        "data.isnull().sum()"
      ],
      "execution_count": null,
      "outputs": []
    },
    {
      "metadata": {
        "trusted": true,
        "_uuid": "baa1503c31baef5c66eb6a16ecda8251a0bb3a0b",
        "id": "qj_yOM2v3G_M"
      },
      "cell_type": "code",
      "source": [
        "round(100*(data.isnull().sum()/len(data.index)), 2)"
      ],
      "execution_count": null,
      "outputs": []
    },
    {
      "metadata": {
        "trusted": true,
        "_uuid": "022840ceee4949a1b1b558a8ab8c1c56d2e6e127",
        "id": "ORh2tiN53G_N"
      },
      "cell_type": "code",
      "source": [
        "# # we will drop the columns having more than 70% NA values.\n",
        "# data = data.drop(data.loc[:,list(round(100*(data.isnull().sum()/len(data.index)), 2)>70)].columns, 1)"
      ],
      "execution_count": null,
      "outputs": []
    },
    {
      "metadata": {
        "trusted": true,
        "_uuid": "46f63ae2afd12839b8940c1055080bf2dbb7015b",
        "id": "ipjzZaYd3G_N"
      },
      "cell_type": "code",
      "source": [
        "# Now we will take care of null values in each column one by one."
      ],
      "execution_count": null,
      "outputs": []
    },
    {
      "metadata": {
        "trusted": true,
        "_uuid": "bc9dae53516e5b49d6cf643a446cb6ef2ffc38b4",
        "id": "WL5qBUTh3G_O"
      },
      "cell_type": "code",
      "source": [
        "# Lead Quality: Indicates the quality of lead based on the data and intuition the the employee who has been assigned to the lead"
      ],
      "execution_count": null,
      "outputs": []
    },
    {
      "metadata": {
        "trusted": true,
        "_uuid": "d019c65d4436663744d9b66f41201db16a1b8505",
        "id": "KqT0__d13G_O"
      },
      "cell_type": "code",
      "source": [
        "data['Lead Quality'].describe()"
      ],
      "execution_count": null,
      "outputs": []
    },
    {
      "metadata": {
        "trusted": true,
        "_uuid": "8d12ab24ce6550fec5ee597bb58416341e782e88",
        "id": "6L7FT_H83G_P"
      },
      "cell_type": "code",
      "source": [
        "sns.countplot(data['Lead Quality'])"
      ],
      "execution_count": null,
      "outputs": []
    },
    {
      "metadata": {
        "trusted": true,
        "_uuid": "b2d0bdffb0415632e9b366b4149b3b520f8a99f9",
        "id": "qc-36X1g3G_P"
      },
      "cell_type": "code",
      "source": [
        "# As Lead quality is based on the intution of employee, so if left blank we can impute 'Not Sure' in NaN safely.\n",
        "data['Lead Quality'] = data['Lead Quality'].replace(np.nan, 'Not Sure')"
      ],
      "execution_count": null,
      "outputs": []
    },
    {
      "metadata": {
        "trusted": true,
        "_uuid": "a2fd639e1cfbddee0d6f6f5beea09a7158d9af71",
        "id": "2jsgoJoI3G_Q"
      },
      "cell_type": "code",
      "source": [
        "sns.countplot(data['Lead Quality'])"
      ],
      "execution_count": null,
      "outputs": []
    },
    {
      "metadata": {
        "trusted": true,
        "_uuid": "0e018dde3973692cd1603e93032dd3d613ab9ccf",
        "id": "7mQnAkWC3G_Q"
      },
      "cell_type": "code",
      "source": [
        "# Asymmetrique Activity Index  |\n",
        "# Asymmetrique Profile Index   \\   An index and score assigned to each customer\n",
        "# Asymmetrique Activity Score  |    based on their activity and their profile\n",
        "# Asymmetrique Profile Score   \\"
      ],
      "execution_count": null,
      "outputs": []
    },
    {
      "metadata": {
        "trusted": true,
        "_uuid": "eb41dda0e6fc18fd82adecb86cf1b256bdf8969a",
        "id": "aIdjZk6v3G_R"
      },
      "cell_type": "code",
      "source": [
        "fig, axs = plt.subplots(2,2, figsize = (10,7.5))\n",
        "plt1 = sns.countplot(data['Asymmetrique Activity Index'], ax = axs[0,0])\n",
        "plt2 = sns.boxplot(data['Asymmetrique Activity Score'], ax = axs[0,1])\n",
        "plt3 = sns.countplot(data['Asymmetrique Profile Index'], ax = axs[1,0])\n",
        "plt4 = sns.boxplot(data['Asymmetrique Profile Score'], ax = axs[1,1])\n",
        "plt.tight_layout()"
      ],
      "execution_count": null,
      "outputs": []
    },
    {
      "metadata": {
        "trusted": false,
        "_uuid": "7d9205fd0835edbf8780e1d37fc06493185ceb2a",
        "id": "rdCzYY-W3G_R"
      },
      "cell_type": "code",
      "source": [
        "# There is too much variation in thes parameters so its not reliable to impute any value in it.\n",
        "# 45% null values means we need to drop these columns."
      ],
      "execution_count": null,
      "outputs": []
    },
    {
      "metadata": {
        "trusted": true,
        "_uuid": "479feb1a9c153c605576bcced7d86f748aedce2d",
        "id": "UYDaFIim3G_S"
      },
      "cell_type": "code",
      "source": [
        "# data = data.drop(['Asymmetrique Activity Index','Asymmetrique Activity Score','Asymmetrique Profile Index','Asymmetrique Profile Score'],1)"
      ],
      "execution_count": null,
      "outputs": []
    },
    {
      "metadata": {
        "trusted": true,
        "_uuid": "df9d9becc4e9a6338c7f065ec130846dc81069fc",
        "id": "dORKmd923G_S"
      },
      "cell_type": "code",
      "source": [
        "round(100*(data.isnull().sum()/len(data.index)), 2)"
      ],
      "execution_count": null,
      "outputs": []
    },
    {
      "metadata": {
        "trusted": true,
        "_uuid": "c37839c7072d51f556ae5cbfdf04b6effc8cabae",
        "id": "9-Ianaye3G_T"
      },
      "cell_type": "code",
      "source": [
        "# City"
      ],
      "execution_count": null,
      "outputs": []
    },
    {
      "metadata": {
        "trusted": true,
        "_uuid": "3716d6ebe396d166bc1756664eefdceeee2c06fa",
        "id": "-baWH51z3G_T"
      },
      "cell_type": "code",
      "source": [
        "data.City.describe()"
      ],
      "execution_count": null,
      "outputs": []
    },
    {
      "metadata": {
        "trusted": true,
        "_uuid": "ad852014109c3c150484a22bcf8ccde80358d3f4",
        "id": "0AfgUaxi3G_U"
      },
      "cell_type": "code",
      "source": [
        "sns.countplot(data.City)\n",
        "xticks(rotation = 90)"
      ],
      "execution_count": null,
      "outputs": []
    },
    {
      "metadata": {
        "trusted": true,
        "_uuid": "aeab371d7c4fe92ac74700e211f8920c80c01c4b",
        "id": "i_SaNYVs3G_V"
      },
      "cell_type": "code",
      "source": [
        "# Around 60% of the data is Mumbai so we can impute Mumbai in the missing values."
      ],
      "execution_count": null,
      "outputs": []
    },
    {
      "metadata": {
        "trusted": true,
        "_uuid": "5f0c332b871ada17973a3f7e46da03b8d50d4879",
        "id": "-VlSd-5L3G_W"
      },
      "cell_type": "code",
      "source": [
        "# data['City'] = data['City'].replace(np.nan, 'Mumbai')"
      ],
      "execution_count": null,
      "outputs": []
    },
    {
      "metadata": {
        "trusted": true,
        "_uuid": "bc986511cbc1b8b60f5418450854477ac0d07ea6",
        "id": "omU0DnQP3G_W"
      },
      "cell_type": "code",
      "source": [
        "# Specailization"
      ],
      "execution_count": null,
      "outputs": []
    },
    {
      "metadata": {
        "scrolled": true,
        "trusted": true,
        "_uuid": "61954d83cec3f1fbf0c57f0558357c03c43c3b2a",
        "id": "TE0UmaNr3G_X"
      },
      "cell_type": "code",
      "source": [
        "data.Specialization.describe()"
      ],
      "execution_count": null,
      "outputs": []
    },
    {
      "metadata": {
        "scrolled": true,
        "trusted": true,
        "_uuid": "e6c9b965f1a21a92332c5e2474b642ab8f71cc23",
        "id": "aHxQQigP3G_X"
      },
      "cell_type": "code",
      "source": [
        "sns.countplot(data.Specialization)\n",
        "xticks(rotation = 90)"
      ],
      "execution_count": null,
      "outputs": []
    },
    {
      "metadata": {
        "trusted": true,
        "_uuid": "b67a09184dc9311c34b9586dfef616027b7b1757",
        "id": "BpShfRYa3G_X"
      },
      "cell_type": "code",
      "source": [
        "# It maybe the case that lead has not entered any specialization if his/her option is not availabe on the list,\n",
        "#  may not have any specialization or is a student.\n",
        "# Hence we can make a category \"Others\" for missing values."
      ],
      "execution_count": null,
      "outputs": []
    },
    {
      "metadata": {
        "trusted": true,
        "_uuid": "9c12fa668028a5f56b6a16a6d05f7cb3aa84e458",
        "id": "1n4wQiHK3G_Y"
      },
      "cell_type": "code",
      "source": [
        "data['Specialization'] = data['Specialization'].replace(np.nan, 'Others')"
      ],
      "execution_count": null,
      "outputs": []
    },
    {
      "metadata": {
        "trusted": true,
        "_uuid": "e61faf86b5b74b778845d470d059ba273d1e03df",
        "id": "aPV2gxez3G_k"
      },
      "cell_type": "code",
      "source": [
        "round(100*(data.isnull().sum()/len(data.index)), 2)"
      ],
      "execution_count": null,
      "outputs": []
    },
    {
      "metadata": {
        "trusted": true,
        "_uuid": "55b60c26eacce294fff96d607914e7a42e3216dc",
        "id": "tlB8W4X53G_k"
      },
      "cell_type": "code",
      "source": [
        "# Tags"
      ],
      "execution_count": null,
      "outputs": []
    },
    {
      "metadata": {
        "trusted": true,
        "_uuid": "0d4ca3300dc2486874a8d0cf57f99aec0b06c403",
        "id": "nhpFIo1c3G_l"
      },
      "cell_type": "code",
      "source": [
        "data.Tags.describe()"
      ],
      "execution_count": null,
      "outputs": []
    },
    {
      "metadata": {
        "trusted": true,
        "_uuid": "274053925de78a6989b4f9d1ff9fd7604bbba564",
        "id": "mhplpY5a3G_l"
      },
      "cell_type": "code",
      "source": [
        "fig, axs = plt.subplots(figsize = (15,7.5))\n",
        "sns.countplot(data.Tags)\n",
        "xticks(rotation = 90)"
      ],
      "execution_count": null,
      "outputs": []
    },
    {
      "metadata": {
        "trusted": true,
        "_uuid": "e39b6e3df55d14be7af932171cee367e72a1406c",
        "id": "vqhe3g8l3G_m"
      },
      "cell_type": "code",
      "source": [
        "# Blanks in the tag column may be imputed by 'Will revert after reading the email'."
      ],
      "execution_count": null,
      "outputs": []
    },
    {
      "metadata": {
        "trusted": true,
        "_uuid": "b59e1d624fa8a1f5500bad309742470b7e250106",
        "id": "6md2I5j53G_m"
      },
      "cell_type": "code",
      "source": [
        "data['Tags'] = data['Tags'].replace(np.nan, 'Will revert after reading the email')"
      ],
      "execution_count": null,
      "outputs": []
    },
    {
      "metadata": {
        "trusted": true,
        "_uuid": "0648e60b5aea2bbd61f57b68059a4f5fe1ec321e",
        "id": "lLzYK9sX3G_m"
      },
      "cell_type": "code",
      "source": [
        "# What matters most to you in choosing a course"
      ],
      "execution_count": null,
      "outputs": []
    },
    {
      "metadata": {
        "trusted": true,
        "_uuid": "494f2554aad458fd15f9cff09bb0ac30f7213ae2",
        "id": "zZKfAcNJ3G_n"
      },
      "cell_type": "code",
      "source": [
        "data['What matters most to you in choosing a course'].describe()"
      ],
      "execution_count": null,
      "outputs": []
    },
    {
      "metadata": {
        "trusted": true,
        "_uuid": "638ec6c1a1f9c25ce63d7f9262a742b55ae2370e",
        "id": "4IeEyuAd3G_n"
      },
      "cell_type": "code",
      "source": [
        "# Blanks in the this column may be imputed by 'Better Career Prospects'."
      ],
      "execution_count": null,
      "outputs": []
    },
    {
      "metadata": {
        "trusted": true,
        "_uuid": "2756ba7ab147a47b7a1533f7e5981b5db4f1e5ea",
        "id": "g7-16NpA3G_n"
      },
      "cell_type": "code",
      "source": [
        "# data['What matters most to you in choosing a course'] = data['What matters most to you in choosing a course'].replace(np.nan, 'Better Career Prospects')"
      ],
      "execution_count": null,
      "outputs": []
    },
    {
      "metadata": {
        "trusted": true,
        "_uuid": "e89253f3a1a01b56eb527c665d602119c21fc85c",
        "id": "uquWbncT3G_o"
      },
      "cell_type": "code",
      "source": [
        "# Occupation"
      ],
      "execution_count": null,
      "outputs": []
    },
    {
      "metadata": {
        "trusted": true,
        "_uuid": "b628132c4492ed4d38bdd92c9a4a2e92313624c0",
        "id": "IZre8niF3G_o"
      },
      "cell_type": "code",
      "source": [
        "data['What is your current occupation'].describe()"
      ],
      "execution_count": null,
      "outputs": []
    },
    {
      "metadata": {
        "trusted": true,
        "_uuid": "f56b5e8ba6a75d844a3313528c837e504b0123b3",
        "id": "7ANjLpBB3G_o"
      },
      "cell_type": "code",
      "source": [
        "# 86% entries are of Unemployed so we can impute \"Unemployed\" in it."
      ],
      "execution_count": null,
      "outputs": []
    },
    {
      "metadata": {
        "trusted": true,
        "_uuid": "bfd429a30a6d52baa639ff0956b3261912ce1320",
        "id": "eCbKtr623G_p"
      },
      "cell_type": "code",
      "source": [
        "data['What is your current occupation'] = data['What is your current occupation'].replace(np.nan, 'Unemployed')"
      ],
      "execution_count": null,
      "outputs": []
    },
    {
      "metadata": {
        "trusted": true,
        "_uuid": "8cda8bb2d4196d09461d365159a9784389b4f851",
        "id": "SbzNF1jR3G_p"
      },
      "cell_type": "code",
      "source": [
        "# Country"
      ],
      "execution_count": null,
      "outputs": []
    },
    {
      "metadata": {
        "trusted": true,
        "_uuid": "0b03c83b106bcdab249c9892f52863b008f99121",
        "id": "udAO65MU3G_q"
      },
      "cell_type": "code",
      "source": [
        "# Country is India for most values so let's impute the same in missing values.\n",
        "data['Country'] = data['Country'].replace(np.nan, 'India')"
      ],
      "execution_count": null,
      "outputs": []
    },
    {
      "metadata": {
        "trusted": false,
        "_uuid": "24c0c3aeaa5f70d93c85a78d1c4f7299463686e4",
        "id": "RR6a_ULh3G_q"
      },
      "cell_type": "code",
      "source": [
        "round(100*(data.isnull().sum()/len(data.index)), 2)"
      ],
      "execution_count": null,
      "outputs": []
    },
    {
      "metadata": {
        "scrolled": true,
        "trusted": false,
        "_uuid": "a91feba2cd4032c84506eafab8c475822ce4066d",
        "id": "MBTALAnN3G_q"
      },
      "cell_type": "code",
      "source": [
        "round(100*(data.isnull().sum()/len(data.index)), 2)"
      ],
      "execution_count": null,
      "outputs": []
    },
    {
      "metadata": {
        "trusted": true,
        "_uuid": "23d69599a69eda63b808291f47c79a632cf8b308",
        "id": "ia8IRHGj3G_r"
      },
      "cell_type": "code",
      "source": [
        "data[[\"Prospect ID\",\"Lead Number\"]].nunique()"
      ],
      "execution_count": null,
      "outputs": []
    },
    {
      "metadata": {
        "trusted": true,
        "_uuid": "89ec868290c8928c05c095b22de7a4eadf5f9de9",
        "id": "UeCVNdeX3G_r"
      },
      "cell_type": "code",
      "source": [
        "print(data.shape)"
      ],
      "execution_count": null,
      "outputs": []
    },
    {
      "metadata": {
        "trusted": true,
        "_uuid": "d138a97febb84b91c280645e1f5da81e50fabb45",
        "id": "VaZvVdWA3G_s"
      },
      "cell_type": "code",
      "source": [
        "data[\"Last Notable Activity\"].value_counts()"
      ],
      "execution_count": null,
      "outputs": []
    },
    {
      "metadata": {
        "trusted": true,
        "scrolled": true,
        "_uuid": "d8c5fa680eef6d19c6fb055c68ed4d451f66b5a6",
        "id": "ZxpK0M4t3G_s"
      },
      "cell_type": "code",
      "source": [
        "data.head()"
      ],
      "execution_count": null,
      "outputs": []
    },
    {
      "metadata": {
        "trusted": true,
        "_uuid": "f2156a245675d6e55f5a2776b5660eb3231c2d3c",
        "id": "4K0uPa-b3G_t"
      },
      "cell_type": "code",
      "source": [
        "data.shape"
      ],
      "execution_count": null,
      "outputs": []
    },
    {
      "metadata": {
        "trusted": true,
        "_uuid": "d631c2e74cb3017f93c9df3e1b9b7fe05d6ce6b2",
        "id": "QsShDnbL3G_t"
      },
      "cell_type": "code",
      "source": [
        "data.drop([\"Prospect ID\"],axis=1).to_csv(\"Marketing_Leads_India.csv.gz\",index=False,compression=\"gzip\")"
      ],
      "execution_count": null,
      "outputs": []
    }
  ],
  "metadata": {
    "kernelspec": {
      "display_name": "Python 3",
      "language": "python",
      "name": "python3"
    },
    "language_info": {
      "name": "python",
      "version": "3.6.6",
      "mimetype": "text/x-python",
      "codemirror_mode": {
        "name": "ipython",
        "version": 3
      },
      "pygments_lexer": "ipython3",
      "nbconvert_exporter": "python",
      "file_extension": ".py"
    },
    "colab": {
      "name": "Lead Scoring",
      "provenance": [],
      "include_colab_link": true
    }
  },
  "nbformat": 4,
  "nbformat_minor": 0
}